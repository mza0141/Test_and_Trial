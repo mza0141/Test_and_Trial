{
 "cells": [
  {
   "cell_type": "markdown",
   "id": "84ecf7d4",
   "metadata": {},
   "source": [
    "# Data Science Tools and Ecosystem"
   ]
  },
  {
   "cell_type": "markdown",
   "id": "75d18abe",
   "metadata": {},
   "source": [
    "In this notebook, Data Science Tools and Ecosystem are summarized."
   ]
  },
  {
   "cell_type": "markdown",
   "id": "572f3a20",
   "metadata": {},
   "source": [
    "__Objectives:__ <br> \n",
    "List popular languages for Data Science <br>\n",
    "* Python <br>\n",
    "* R <br>\n",
    "* SQL <br>\n",
    "* Scala <br>\n"
   ]
  },
  {
   "cell_type": "markdown",
   "id": "5c198948",
   "metadata": {},
   "source": [
    "Some of the popular languages that Data Scientists use are: <br>\n",
    "    1. Python <br>\n",
    "    2. R <br>\n",
    "    3. Julia <br>\n",
    "    4. Scala\n"
   ]
  },
  {
   "cell_type": "markdown",
   "id": "659af53f",
   "metadata": {},
   "source": [
    "Some of the commonly used libraries used by Data Scientists include: <br>\n",
    "    1. Sciketlearn <br>\n",
    "    2. Caret <br>\n",
    "    3. Scipy <br>\n",
    "    4. Tensorflow <br>"
   ]
  },
  {
   "cell_type": "markdown",
   "id": "67360a2d",
   "metadata": {},
   "source": [
    "| Data Science Tools|\n",
    "| --- |\n",
    "| Python |\n",
    "| R |\n",
    "| SQL |\n"
   ]
  },
  {
   "cell_type": "markdown",
   "id": "1fc48064",
   "metadata": {},
   "source": [
    "### Below are a few examples of evaluating arithmetic expressions in Python"
   ]
  },
  {
   "cell_type": "code",
   "execution_count": 3,
   "id": "81ffaf66",
   "metadata": {},
   "outputs": [
    {
     "data": {
      "text/plain": [
       "17"
      ]
     },
     "execution_count": 3,
     "metadata": {},
     "output_type": "execute_result"
    }
   ],
   "source": [
    "# This a simple arithmetic expression to mutiply then add integers\n",
    "(3*4)+5"
   ]
  },
  {
   "cell_type": "code",
   "execution_count": 4,
   "id": "21eb19d7",
   "metadata": {},
   "outputs": [
    {
     "data": {
      "text/plain": [
       "3.3333333333333335"
      ]
     },
     "execution_count": 4,
     "metadata": {},
     "output_type": "execute_result"
    }
   ],
   "source": [
    "#This will convert 200 minutes to hours by diving by 60\n",
    "200/60"
   ]
  },
  {
   "cell_type": "markdown",
   "id": "790d00dc",
   "metadata": {},
   "source": [
    "# Author\n",
    "Md Shahriar Aziz"
   ]
  },
  {
   "cell_type": "code",
   "execution_count": null,
   "id": "6ac49bf5",
   "metadata": {},
   "outputs": [],
   "source": []
  }
 ],
 "metadata": {
  "kernelspec": {
   "display_name": "Python 3 (ipykernel)",
   "language": "python",
   "name": "python3"
  },
  "language_info": {
   "codemirror_mode": {
    "name": "ipython",
    "version": 3
   },
   "file_extension": ".py",
   "mimetype": "text/x-python",
   "name": "python",
   "nbconvert_exporter": "python",
   "pygments_lexer": "ipython3",
   "version": "3.10.9"
  }
 },
 "nbformat": 4,
 "nbformat_minor": 5
}
